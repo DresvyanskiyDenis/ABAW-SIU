{
 "cells": [
  {
   "cell_type": "code",
   "execution_count": 1,
   "metadata": {},
   "outputs": [],
   "source": [
    "import pickle\n",
    "import numpy as np\n",
    "import pandas as pd\n",
    "from collections import Counter\n",
    "import math\n",
    "from sklearn.svm import SVC"
   ]
  },
  {
   "cell_type": "code",
   "execution_count": 2,
   "metadata": {},
   "outputs": [],
   "source": [
    "def fill_dropped_frame(name_folder, dropped_frames, df_old):\n",
    "    # fill in the probabilities for dropped frames\n",
    "    name_labels = ['prob_Neutral','prob_Anger','prob_Disgust','prob_Fear','prob_Happiness','prob_Sadness','prob_Surprise']\n",
    "    df_new__ = pd.DataFrame(columns=['name_file','emotion','frame'] + name_labels)\n",
    "\n",
    "    for i in name_folder:\n",
    "        df_n = dropped_frames.loc[dropped_frames.name_file==i].copy()\n",
    "        all_frame_n = df_n.frame.tolist()\n",
    "        all_prob_n = pd.DataFrame(df_n.drop(['name_file', 'emotion', 'frame'], axis=1)).values\n",
    "        for j in all_frame_n:\n",
    "            if j - 1 not in all_frame_n:\n",
    "                if j - 1 == 0:\n",
    "                    c_df = df_old.loc[df_old.name_file == i].copy()\n",
    "                    c_p = c_df.iloc[0,:].drop(['name_file', 'emotion', 'frame']).values\n",
    "                    all_prob_n[all_frame_n.index(j)] = c_p\n",
    "                else:\n",
    "                    c_df = df_old[(df_old.name_file == i) & (df_old.frame <= j)]\n",
    "                    if len(c_df) == 0:\n",
    "                        c_df = df_old[(df_old.name_file == i) & (df_old.frame > j)]\n",
    "                        c_p = c_df.iloc[0,:].drop(['name_file', 'emotion', 'frame']).values\n",
    "                    else:\n",
    "                        c_p = c_df.iloc[-1,:].drop(['name_file', 'emotion', 'frame']).values\n",
    "                    all_prob_n[all_frame_n.index(j)]=c_p\n",
    "            else:\n",
    "                all_prob_n[all_frame_n.index(j)] = all_prob_n[all_frame_n.index(j-1)]\n",
    "\n",
    "        for j in range(len(name_labels)):\n",
    "            df_n[name_labels[j]]=all_prob_n[:,j].tolist()\n",
    "\n",
    "        df_new__ = pd.concat([df_new__, df_n], ignore_index=True)\n",
    "    return df_new__\n",
    "\n",
    "def df_full(dict_, df):\n",
    "    # create new df\n",
    "    name_prob_emotion = ['prob_Neutral','prob_Anger', 'prob_Disgust','prob_Fear','prob_Happiness', 'prob_Sadness','prob_Surprise']\n",
    "    df_all = pd.DataFrame(columns=['name','name_img','true_emotion'] + name_prob_emotion)\n",
    "    name_new = []\n",
    "    frame_new = []\n",
    "    prob_new = []\n",
    "    emotion_true = []\n",
    "    for i in range(len(pred)):\n",
    "        curr_len = len(dict_['index'][i])\n",
    "        curr_df = df.loc()[df.index.isin(dict_['index'][i])].copy()\n",
    "        curr_frame = curr_df.name_img.tolist()\n",
    "        curr_emotion = curr_df.emotion.tolist()\n",
    "        curr_name = curr_df.name_folder.tolist()\n",
    "        curr_prob = np.asarray([pred[i].tolist()]*curr_len)\n",
    "        curr_df = pd.DataFrame(columns=['name','name_img','true_emotion'] + name_prob_emotion)\n",
    "        curr_df.name = curr_name\n",
    "        curr_df.name_img = curr_frame\n",
    "        curr_df.true_emotion = curr_emotion\n",
    "        for i in range(len(name_prob_emotion)):\n",
    "            curr_df[name_prob_emotion[i]]=curr_prob[:,i].tolist()\n",
    "        # union df\n",
    "        df_all = pd.concat([df_all, curr_df], ignore_index=True)\n",
    "    return df_all\n",
    "\n",
    "def df_group(df_all):\n",
    "    # grouping probabilities by frames\n",
    "    df_all_group = df_all.groupby(['name', 'name_img']).agg({'true_emotion':'unique', 'prob_Neutral':'mean','prob_Anger':'mean','prob_Disgust':'mean',\n",
    "                                                'prob_Fear':'mean','prob_Happiness':'mean', 'prob_Sadness':'mean',\n",
    "                                                'prob_Surprise':'mean'})\n",
    "\n",
    "    df_all_group[['true_emotion']] = df_all_group[['true_emotion']].astype(int)\n",
    "\n",
    "    df_all_group.reset_index(inplace=True)\n",
    "    df_all_group['name_img'] = df_all_group['name_img'].astype(str)\n",
    "\n",
    "    names_split = df_all_group.name_img.str.split('.')\n",
    "    res = names_split.str[0].astype(int)\n",
    "    # create a new column 'frame'\n",
    "    df_all_group['frame'] = res\n",
    "    # rename columns\n",
    "    df_all_group.rename(columns={'name': 'name_file','true_emotion':'emotion'}, inplace=True)\n",
    "    # sort by name and frame number\n",
    "    df_all_group = df_all_group.sort_values(by=['name_file', 'frame'])\n",
    "    # reset indexes\n",
    "    df_all_group.reset_index(drop=True)\n",
    "    # remove unnecessary column\n",
    "    df_all_group = pd.DataFrame(df_all_group.drop(['name_img'], axis=1))\n",
    "    # set a new order\n",
    "    df_all_group = df_all_group[['name_file','emotion','frame','prob_Neutral','prob_Anger','prob_Disgust','prob_Fear','prob_Happiness','prob_Sadness','prob_Surprise']]\n",
    "    return df_all_group\n",
    "\n",
    "def df_dropprd_frames(dict_not_frame, name_folder):\n",
    "    # create df from dropprd frames\n",
    "    name_file = []\n",
    "    name_frame = []\n",
    "    for k, v in dict_not_frame.items():\n",
    "        if k in name_folder:\n",
    "            name_file += [k]*len(v)\n",
    "            name_frame += v\n",
    "\n",
    "    zero = np.zeros((len(name_file),7))\n",
    "    name_labels = ['prob_Neutral','prob_Anger','prob_Disgust','prob_Fear','prob_Happiness','prob_Sadness','prob_Surprise']\n",
    "\n",
    "    dropped_frames = pd.DataFrame(columns=['name_file','emotion', 'frame'] + name_labels)\n",
    "\n",
    "    dropped_frames.name_file = name_file\n",
    "    dropped_frames.frame = name_frame\n",
    "\n",
    "    for i in range(len(name_labels)):\n",
    "        dropped_frames[name_labels[i]]=zero[:,i].tolist()\n",
    "\n",
    "    dropped_frames[['frame']] = dropped_frames[['frame']].astype(int)\n",
    "    return dropped_frames"
   ]
  },
  {
   "cell_type": "code",
   "execution_count": 3,
   "metadata": {},
   "outputs": [],
   "source": [
    "path_data = 'data_sequence_svm/'\n",
    "path_model = 'models/svm/'"
   ]
  },
  {
   "cell_type": "code",
   "execution_count": 4,
   "metadata": {},
   "outputs": [],
   "source": [
    "# load data\n",
    "dict_test = pickle.load(open(path_data + 'dict_valid_window_4_s.pickle', 'rb'))\n",
    "# load model\n",
    "loaded_model = pickle.load(open(path_model + 'model_log_weight.sav', 'rb'))"
   ]
  },
  {
   "cell_type": "code",
   "execution_count": 5,
   "metadata": {},
   "outputs": [],
   "source": [
    "pred = loaded_model.predict_proba(dict_test['feature'])"
   ]
  },
  {
   "cell_type": "code",
   "execution_count": 6,
   "metadata": {},
   "outputs": [],
   "source": [
    "filename = 'path_images_valid.csv'\n",
    "df_test = pd.read_csv(path_data + filename, dtype={'name_folder': str})\n",
    "\n",
    "names_ids_1 = df_test.path_images.str.split('/')\n",
    "res = names_ids_1.str[1]\n",
    "df_test['name_img'] = res\n",
    "\n",
    "df_all = df_full(dict_test, df_test)\n",
    "df_all_group = df_group(df_all)"
   ]
  },
  {
   "cell_type": "code",
   "execution_count": 7,
   "metadata": {},
   "outputs": [],
   "source": [
    "# create a dataframe with dropped frames\n",
    "name_folder = Counter(df_all_group.name_file.tolist()).keys()\n",
    "path_counter_frame = 'files_needed_to_get_final_probabilities/counter_frame.csv'\n",
    "counter_frame = pd.read_csv(path_counter_frame)\n",
    "name_counter_frame = [i.split('.')[0] for i in counter_frame.name_video.tolist()]\n",
    "total_counter_frame = counter_frame.total_frame.tolist()\n",
    "\n",
    "dict_not_frame = pickle.load(open('files_needed_to_get_final_probabilities/frame_with_face_not_detected.pickle', 'rb'))\n",
    "dropped_frames = df_dropprd_frames(dict_not_frame, name_folder)"
   ]
  },
  {
   "cell_type": "code",
   "execution_count": 8,
   "metadata": {},
   "outputs": [],
   "source": [
    "# fill in the probabilities for dropped frames\n",
    "df_new__ = fill_dropped_frame(name_folder, dropped_frames, df_all_group)\n",
    "\n",
    "# merge two dataframes\n",
    "df_new_union = pd.concat([df_all_group, df_new__], ignore_index=True)\n",
    "df_new_union_sort = df_new_union.sort_values(by=['name_file', 'frame'])"
   ]
  },
  {
   "cell_type": "code",
   "execution_count": 9,
   "metadata": {},
   "outputs": [],
   "source": [
    "# save probability\n",
    "for i in name_folder:\n",
    "    if len(i.split('_')) > 1 and len(i.split('_')[1]) > 1:\n",
    "        counter_i = total_counter_frame[name_counter_frame.index(i.split('_')[0])]\n",
    "    else:\n",
    "        counter_i = total_counter_frame[name_counter_frame.index(i)]\n",
    "    c_df = df_new_union_sort.loc[df_new_union_sort.name_file == i].copy()\n",
    "    c_p = pd.DataFrame(c_df.drop(['name_file','emotion'], axis=1)).values\n",
    "    df_recording = pd.DataFrame(data=c_p[:counter_i],columns=['frame_id','neutral_probability', 'anger_probability','disgust_probability','fear_probability','happiness_probability','sadness_probability','surprise_probability'])\n",
    "    filename = '{}.txt'.format(i)\n",
    "    df_recording.to_csv('probability/svm/test/' + filename, index=False)"
   ]
  },
  {
   "cell_type": "code",
   "execution_count": null,
   "metadata": {},
   "outputs": [],
   "source": []
  }
 ],
 "metadata": {
  "kernelspec": {
   "display_name": "Python 3",
   "language": "python",
   "name": "python3"
  },
  "language_info": {
   "codemirror_mode": {
    "name": "ipython",
    "version": 3
   },
   "file_extension": ".py",
   "mimetype": "text/x-python",
   "name": "python",
   "nbconvert_exporter": "python",
   "pygments_lexer": "ipython3",
   "version": "3.7.5"
  }
 },
 "nbformat": 4,
 "nbformat_minor": 2
}
