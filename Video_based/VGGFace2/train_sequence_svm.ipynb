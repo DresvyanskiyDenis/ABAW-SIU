{
 "cells": [
  {
   "cell_type": "code",
   "execution_count": 1,
   "metadata": {},
   "outputs": [],
   "source": [
    "import pickle\n",
    "import numpy as np\n",
    "import pandas as pd\n",
    "from sklearn.utils import shuffle\n",
    "from collections import Counter\n",
    "import math\n",
    "from sklearn.svm import SVC"
   ]
  },
  {
   "cell_type": "code",
   "execution_count": 2,
   "metadata": {},
   "outputs": [],
   "source": [
    "def weight_(y_train, mu = []):\n",
    "    counter = Counter(y_train)\n",
    "    unque_counts_weights = create_class_weight(counter, mu=mu)\n",
    "    unque_counts_weights_new = unque_counts_weights.items()\n",
    "    unque_counts_weights_new_sort= dict(sorted(unque_counts_weights_new))\n",
    "#     unque_counts_weights_new_sort[5] = unque_counts_weights_new_sort.pop(6)\n",
    "    return unque_counts_weights_new_sort\n",
    "\n",
    "def create_class_weight(labels_dict,mu=[]):\n",
    "    total = sum(labels_dict.values())\n",
    "    keys = labels_dict.keys()\n",
    "    class_weight = dict()\n",
    "    for i in mu:\n",
    "        if math.log(i*total/float(labels_dict[4])) > 1:\n",
    "            mu_curr = i-0.01\n",
    "            print(mu_curr)\n",
    "            for key in keys:\n",
    "                score = math.log(mu_curr*total/float(labels_dict[key]))\n",
    "                class_weight[key] = score if score > 1.0 else 1.0\n",
    "\n",
    "            return class_weight"
   ]
  },
  {
   "cell_type": "code",
   "execution_count": 3,
   "metadata": {},
   "outputs": [],
   "source": [
    "path = 'data_sequence_svm/'\n",
    "\n",
    "dict_train = pickle.load(open(path + 'dict_train_minus_one_window_4_s.pickle', 'rb'))"
   ]
  },
  {
   "cell_type": "code",
   "execution_count": 4,
   "metadata": {},
   "outputs": [],
   "source": [
    "feature_train_r, labels_train_r = shuffle(dict_train['feature'], dict_train['emotion'], random_state=42)\n",
    "mu_2 = [i/100 for i in range(1,100,1)]\n",
    "\n",
    "weight = weight_(labels_train_r, mu=mu_2)\n",
    "print(weight)"
   ]
  },
  {
   "cell_type": "code",
   "execution_count": 5,
   "metadata": {},
   "outputs": [],
   "source": [
    "svm = SVC(kernel='poly', gamma=0.001, C = 2, degree=1, probability = True, class_weight=weight)\n",
    "svm_model = svm.fit(feature_train_r, labels_train_r)"
   ]
  },
  {
   "cell_type": "code",
   "execution_count": 6,
   "metadata": {},
   "outputs": [],
   "source": [
    "# save model\n",
    "filename = 'models/svm/' + 'model_log_weight.sav'\n",
    "pickle.dump(pipe_svm_model, open(filename, 'wb'))"
   ]
  },
  {
   "cell_type": "code",
   "execution_count": null,
   "metadata": {},
   "outputs": [],
   "source": []
  }
 ],
 "metadata": {
  "kernelspec": {
   "display_name": "Python 3",
   "language": "python",
   "name": "python3"
  },
  "language_info": {
   "codemirror_mode": {
    "name": "ipython",
    "version": 3
   },
   "file_extension": ".py",
   "mimetype": "text/x-python",
   "name": "python",
   "nbconvert_exporter": "python",
   "pygments_lexer": "ipython3",
   "version": "3.7.5"
  }
 },
 "nbformat": 4,
 "nbformat_minor": 2
}
