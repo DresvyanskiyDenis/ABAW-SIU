{
 "cells": [
  {
   "cell_type": "code",
   "execution_count": 1,
   "metadata": {},
   "outputs": [],
   "source": [
    "import keras\n",
    "import numpy as np\n",
    "import pandas as pd\n",
    "import pickle\n",
    "import os\n",
    "from statistics import mode\n",
    "from collections import Counter\n",
    "\n",
    "from keras_vggface.vggface import VGGFace\n",
    "from keras_vggface import utils\n",
    "from tensorflow.keras.preprocessing.image import ImageDataGenerator"
   ]
  },
  {
   "cell_type": "code",
   "execution_count": 2,
   "metadata": {},
   "outputs": [],
   "source": [
    "def mean_std(feature):\n",
    "    mean, std = np.mean(feature, axis=0), np.std(feature, axis=0)\n",
    "    return np.hstack((mean, std))\n",
    "\n",
    "def change_labels(labels):\n",
    "    counter = Counter(labels)\n",
    "    if len(counter) > 1:\n",
    "        try:\n",
    "            if int(mode(labels)) == -1:\n",
    "                curr_mode = int(sorted(counter, key=counter.get, reverse=True)[1])\n",
    "            else:\n",
    "                curr_mode = int(mode(labels))\n",
    "        except:\n",
    "            if int(sorted(counter, key=counter.get, reverse=True)[0]) == -1:\n",
    "                curr_mode = int(sorted(counter, key=counter.get, reverse=True)[1])\n",
    "            else:\n",
    "                curr_mode = int(sorted(counter, key=counter.get, reverse=True)[0])\n",
    "    else:\n",
    "        curr_mode = int(mode(labels))\n",
    "    return curr_mode\n",
    "\n",
    "def new_feature_labels_name(name_folder_images, curr_index_need, curr_window, curr_feature, curr_labels, step):\n",
    "    new_name = []\n",
    "    new_index = []\n",
    "    new_feature = []\n",
    "    new_labels = []\n",
    "    for i in range(0, len(curr_labels), round(curr_window/step)):\n",
    "        new_name.append(name_folder_images)\n",
    "        if i + curr_window > len(curr_labels):\n",
    "            new_index.append(curr_index_need[i:len(curr_labels)])\n",
    "            new_feature.append(mean_std(curr_feature[i:len(curr_labels)]))\n",
    "            new_labels.append(change_labels(curr_labels[i:len(curr_labels)]))\n",
    "        else:\n",
    "            new_index.append(curr_index_need[i:i+curr_window])\n",
    "            new_feature.append(mean_std(curr_feature[i:i+curr_window]))\n",
    "            new_labels.append(change_labels(curr_labels[i:i+curr_window]))\n",
    "    return new_name, new_index, new_feature, new_labels\n",
    "\n",
    "def window_data(unique_name_video, df, feature, fps_vadeo, step):\n",
    "    new_name_all = []\n",
    "    new_index_all = []\n",
    "    new_feature_all = []\n",
    "    new_labels_all = []\n",
    "    for name_folder_images in unique_name_video:\n",
    "        curr_df = df.loc()[df.name_folder==name_folder_images].copy()\n",
    "        curr_index_need = curr_df.index.tolist()\n",
    "        if len(name_folder_images.split('_')) == 2 and len(name_folder_images.split('_')[1]) > 2:\n",
    "            curr_name = name_folder_images.split('_')[0]\n",
    "        else:\n",
    "            curr_name = name_folder_images\n",
    "        curr_window = int(fps_vadeo[fps_vadeo.name==curr_name].window.values)\n",
    "        curr_feature = feature[min(curr_index_need):max(curr_index_need)+1]\n",
    "        curr_labels = curr_df.emotion.tolist()\n",
    "        new_name, new_index, new_feature, new_labels = new_feature_labels_name(name_folder_images, curr_index_need,curr_window, curr_feature, curr_labels, step)\n",
    "        new_name_all += new_name\n",
    "        new_index_all += new_index\n",
    "        new_feature_all += new_feature\n",
    "        new_labels_all += new_labels\n",
    "        \n",
    "    return new_name_all, new_index_all, new_feature_all, new_labels_all\n",
    "\n",
    "def create_dict(name, index, feature, emotion):\n",
    "    dict_ = {}\n",
    "    dict_['name'] = name\n",
    "    dict_['index'] = index\n",
    "    dict_['feature'] = feature\n",
    "    dict_['emotion'] = emotion\n",
    "    return dict_\n",
    "\n",
    "def data_minus_one(name,index, feature, emotion):\n",
    "    # applies only to training set\n",
    "    name_new = []\n",
    "    index_new = []\n",
    "    feature_new = []\n",
    "    emotion_new = []\n",
    "\n",
    "    for i in range(len(emotion)):\n",
    "        if emotion[i] != -1:\n",
    "            name_new.append(name[i])\n",
    "            index_new.append(index[i])\n",
    "            feature_new.append(feature[i])\n",
    "            emotion_new.append(emotion[i])\n",
    "    return name_new, index_new, feature_new, emotion_new"
   ]
  },
  {
   "cell_type": "code",
   "execution_count": 3,
   "metadata": {},
   "outputs": [],
   "source": [
    "# preparing data for a end-to-end model\n",
    "images = 'C:/Users/ryumi/Desktop/aff_wild/images_autors/'\n",
    "filename = 'path_images_train.csv' # or path_images_valid or path_images_test\n",
    "df_train = pd.read_csv('data_sequence_svm/' + filename)"
   ]
  },
  {
   "cell_type": "code",
   "execution_count": 4,
   "metadata": {},
   "outputs": [],
   "source": [
    "datagen_valid = ImageDataGenerator(preprocessing_function=utils.preprocess_input)\n",
    "\n",
    "size = (224,224)\n",
    "bs = 32\n",
    "\n",
    "train_generator = datagen_valid.flow_from_dataframe(dataframe=df_train,\n",
    "                                                     directory=images,\n",
    "                                                     x_col='path_images',\n",
    "                                                     y_col='emotion',\n",
    "                                                     target_size=size,\n",
    "                                                     batch_size=bs,\n",
    "                                                     class_mode=None,\n",
    "                                                     shuffle=False,\n",
    "                                                     )"
   ]
  },
  {
   "cell_type": "code",
   "execution_count": 5,
   "metadata": {},
   "outputs": [],
   "source": [
    "path_model_img = 'C:/Users/ryumi/Desktop/code/models/resnet50/'\n",
    "\n",
    "resnet50 = VGGFace(model='resnet50', include_top=False, input_shape=(224, 224, 3), pooling='avg')\n",
    "x = keras.layers.Dense(units = 1024,activation = 'relu', name='dense')(resnet50.output)\n",
    "x = keras.layers.Dropout(0.5)(x) \n",
    "x = keras.layers.Dense(7, activation = 'softmax')(x)         \n",
    "model_resnet50 = keras.models.Model(resnet50.input, x)\n",
    "model_resnet50.load_weights(path_model_img + \"/weights.h5\")\n",
    "\n",
    "model_loaded = keras.models.Model(inputs=model_resnet50.input, outputs=[model_resnet50.get_layer('dense').output])"
   ]
  },
  {
   "cell_type": "code",
   "execution_count": 6,
   "metadata": {},
   "outputs": [],
   "source": [
    "feature_train = model_loaded.predict(train_generator, verbose=1)"
   ]
  },
  {
   "cell_type": "code",
   "execution_count": 7,
   "metadata": {},
   "outputs": [],
   "source": [
    "# formation of feature for SVM\n",
    "path_fps_vadeo = 'files_needed_to_get_final_probabilities/videos_frame_rate.txt'\n",
    "fps_vadeo = pd.read_csv(path_fps_vadeo, dtype={'filename': str})"
   ]
  },
  {
   "cell_type": "code",
   "execution_count": 8,
   "metadata": {},
   "outputs": [],
   "source": [
    "names_ids = fps_vadeo.filename.str.split('.')\n",
    "res = names_ids.str[0]\n",
    "fps_vadeo['name'] = res\n",
    "window_video = [round(i*30/7.5) for i in fps_vadeo.frame_rate.tolist()] # window 4 seconds\n",
    "fps_vadeo['window'] = window_video"
   ]
  },
  {
   "cell_type": "code",
   "execution_count": 9,
   "metadata": {},
   "outputs": [],
   "source": [
    "unique_name_video_train = list(Counter(df_train.name_folder.tolist()).keys())\n",
    "\n",
    "step = 2 # if the window is 30 frames, then the overlap is 50% (30/2)\n",
    "\n",
    "name_train_new, index_train_new, feature_train_new, emotion_train_new = window_data(unique_name_video_train, df_train, feature_train, fps_vadeo, step)\n",
    "name_train_minus_one, index_train_minus_one, feature_train_minus_one, emotion_train_minus_one = data_minus_one(name_train_new, index_train_new, feature_train_new, emotion_train_new)"
   ]
  },
  {
   "cell_type": "code",
   "execution_count": 10,
   "metadata": {},
   "outputs": [],
   "source": [
    "# formation of dictionaries for subsequent training and predictions\n",
    "dict_train = create_dict(name_train_new, index_train_new, feature_train_new, emotion_train_new)\n",
    "dict_train_minus = create_dict(name_train_minus_one, index_train_minus_one, feature_train_minus_one, emotion_train_minus_one)\n",
    "\n",
    "path = 'data_sequence_svm/'\n",
    "\n",
    "with open(path+'dict_train_{}.pickle'.format('window_4_s'), 'wb') as f:\n",
    "    pickle.dump(dict_train, f)\n",
    "with open(path+'dict_train_minus_one_{}.pickle'.format('window_4_s'), 'wb') as f:\n",
    "    pickle.dump(dict_train_minus, f)"
   ]
  },
  {
   "cell_type": "code",
   "execution_count": null,
   "metadata": {},
   "outputs": [],
   "source": []
  }
 ],
 "metadata": {
  "kernelspec": {
   "display_name": "Python 3",
   "language": "python",
   "name": "python3"
  },
  "language_info": {
   "codemirror_mode": {
    "name": "ipython",
    "version": 3
   },
   "file_extension": ".py",
   "mimetype": "text/x-python",
   "name": "python",
   "nbconvert_exporter": "python",
   "pygments_lexer": "ipython3",
   "version": "3.7.5"
  }
 },
 "nbformat": 4,
 "nbformat_minor": 2
}
