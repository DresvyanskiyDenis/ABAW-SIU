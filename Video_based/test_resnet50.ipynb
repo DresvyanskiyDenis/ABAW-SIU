{
 "cells": [
  {
   "cell_type": "code",
   "execution_count": 1,
   "metadata": {},
   "outputs": [],
   "source": [
    "import keras\n",
    "import numpy as np\n",
    "import pandas as pd\n",
    "import os\n",
    "import pickle\n",
    "from collections import Counter\n",
    "\n",
    "from keras_vggface.vggface import VGGFace\n",
    "from keras_vggface import utils\n",
    "from tensorflow.keras.preprocessing.image import ImageDataGenerator"
   ]
  },
  {
   "cell_type": "code",
   "execution_count": 2,
   "metadata": {},
   "outputs": [],
   "source": [
    "def fill_dropped_frame(name_folder, dropped_frames, df_old):\n",
    "    # fill in the probabilities for dropped frames\n",
    "    name_labels = ['prob_Neutral','prob_Anger','prob_Disgust','prob_Fear','prob_Happiness','prob_Sadness','prob_Surprise']\n",
    "    df_new__ = pd.DataFrame(columns=['name_file','emotion','frame'] + name_labels)\n",
    "\n",
    "    for i in name_folder:\n",
    "        df_n = dropped_frames.loc[dropped_frames.name_file==i].copy()\n",
    "        all_frame_n = df_n.frame.tolist()\n",
    "        all_prob_n = pd.DataFrame(df_n.drop(['name_file', 'emotion', 'frame'], axis=1)).values\n",
    "        for j in all_frame_n:\n",
    "            if j - 1 not in all_frame_n:\n",
    "                if j - 1 == 0:\n",
    "                    c_df = df_old.loc[df_old.name_file == i].copy()\n",
    "                    c_p = c_df.iloc[0,:].drop(['name_file', 'emotion', 'frame']).values\n",
    "                    all_prob_n[all_frame_n.index(j)] = c_p\n",
    "                else:\n",
    "                    c_df = df_old[(df_old.name_file == i) & (df_old.frame <= j)]\n",
    "                    if len(c_df) == 0:\n",
    "                        c_df = df_old[(df_old.name_file == i) & (df_old.frame > j)]\n",
    "                        c_p = c_df.iloc[0,:].drop(['name_file', 'emotion', 'frame']).values\n",
    "                    else:\n",
    "                        c_p = c_df.iloc[-1,:].drop(['name_file', 'emotion', 'frame']).values\n",
    "                    all_prob_n[all_frame_n.index(j)]=c_p\n",
    "            else:\n",
    "                all_prob_n[all_frame_n.index(j)] = all_prob_n[all_frame_n.index(j-1)]\n",
    "\n",
    "        for j in range(len(name_labels)):\n",
    "            df_n[name_labels[j]]=all_prob_n[:,j].tolist()\n",
    "\n",
    "        df_new__ = pd.concat([df_new__, df_n], ignore_index=True)\n",
    "    return df_new__\n",
    "\n",
    "def df_dropprd_frames(dict_not_frame, name_folder):\n",
    "    # create df from dropprd frames\n",
    "    name_file = []\n",
    "    name_frame = []\n",
    "    for k, v in dict_not_frame.items():\n",
    "        if k in name_folder:\n",
    "            name_file += [k]*len(v)\n",
    "            name_frame += v\n",
    "\n",
    "    zero = np.zeros((len(name_file),7))\n",
    "    name_labels = ['prob_Neutral','prob_Anger','prob_Disgust','prob_Fear','prob_Happiness','prob_Sadness','prob_Surprise']\n",
    "\n",
    "    dropped_frames = pd.DataFrame(columns=['name_file','emotion', 'frame'] + name_labels)\n",
    "\n",
    "    dropped_frames.name_file = name_file\n",
    "    dropped_frames.frame = name_frame\n",
    "\n",
    "    for i in range(len(name_labels)):\n",
    "        dropped_frames[name_labels[i]]=zero[:,i].tolist()\n",
    "\n",
    "    dropped_frames[['frame']] = dropped_frames[['frame']].astype(int)\n",
    "    return dropped_frames"
   ]
  },
  {
   "cell_type": "code",
   "execution_count": 3,
   "metadata": {},
   "outputs": [],
   "source": [
    "# preparing data for a end-to-end model\n",
    "# path to the folder with images grouped by video name\n",
    "images = 'C:/Users/ryumi/Desktop/aff_wild/images_autors/'\n",
    "filename = 'path_images_test.csv'\n",
    "df_test = pd.read_csv('data_resnet_50/' + filename)"
   ]
  },
  {
   "cell_type": "code",
   "execution_count": 4,
   "metadata": {},
   "outputs": [],
   "source": [
    "datagen_test = ImageDataGenerator(preprocessing_function=utils.preprocess_input)\n",
    "\n",
    "size_img = (224, 224)\n",
    "bs = 32\n",
    "\n",
    "test_generator = datagen_test.flow_from_dataframe(dataframe=df_test,\n",
    "                                                    directory=images,\n",
    "                                                    x_col='path_images',\n",
    "                                                    y_col='emotion',\n",
    "                                                    target_size=size_img,\n",
    "                                                    batch_size=bs,\n",
    "                                                    class_mode=None,\n",
    "                                                    shuffle=False)"
   ]
  },
  {
   "cell_type": "code",
   "execution_count": 5,
   "metadata": {},
   "outputs": [],
   "source": [
    "# building the end-to-end model\n",
    "resnet50 = VGGFace(model='resnet50', include_top=False, input_shape=(224, 224, 3), pooling='avg')\n",
    "\n",
    "x = keras.layers.Dense(units = 1024,activation = 'relu')(resnet50.output)\n",
    "\n",
    "x = keras.layers.Dropout(0.5)(x) \n",
    "\n",
    "x = keras.layers.Dense(7, activation = 'softmax')(x)         \n",
    "\n",
    "model_resnet50 = keras.models.Model(resnet50.input, x)"
   ]
  },
  {
   "cell_type": "code",
   "execution_count": 6,
   "metadata": {},
   "outputs": [],
   "source": [
    "# get predictions\n",
    "path_model_img = 'models/resnet50/'\n",
    "model_resnet50.load_weights(path_model_img + \"/weights.h5\")\n",
    "\n",
    "test_prob=model_resnet50.predict_generator(test_generator, verbose=1)"
   ]
  },
  {
   "cell_type": "markdown",
   "metadata": {},
   "source": [
    "Please note that the order of labels is set as follows: Anger, Disgust, Fear, Happiness, Neutral, Sadness, Surprise"
   ]
  },
  {
   "cell_type": "code",
   "execution_count": 7,
   "metadata": {},
   "outputs": [],
   "source": [
    "name_test = test_generator.filenames\n",
    "name_video_test, frame_test = [], []\n",
    "name_labels = ['prob_Anger','prob_Disgust','prob_Fear','prob_Happiness','prob_Neutral','prob_Sadness','prob_Surprise']\n",
    "\n",
    "for i in name_test:\n",
    "    name_video_test.append(i.split('/')[0])\n",
    "    frame_test.append(i.split('/')[1].split('.')[0]) \n",
    "    \n",
    "df_ = pd.DataFrame(columns=['name_file','emotion','frame'] + name_labels)\n",
    "\n",
    "df_.name_file=name_video_test\n",
    "df_.frame=frame_test\n",
    "df_[['name_file']] = df_[['name_file']].astype(str)\n",
    "df_[['frame']] = df_[['frame']].astype(int)\n",
    "\n",
    "for i in range(len(name_labels)):\n",
    "    df_[name_labels[i]]=test_prob[:,i].tolist()\n",
    "    \n",
    "df_sort = df_[['name_file','emotion','frame','prob_Neutral','prob_Anger','prob_Disgust','prob_Fear','prob_Happiness','prob_Sadness','prob_Surprise']]"
   ]
  },
  {
   "cell_type": "code",
   "execution_count": 8,
   "metadata": {},
   "outputs": [],
   "source": [
    "# create a dataframe with dropped frames\n",
    "name_folder = Counter(df_.name_file.tolist()).keys()\n",
    "path_counter_frame = 'files_needed_to_get_final_probabilities/counter_frame.csv'\n",
    "counter_frame = pd.read_csv(path_counter_frame)\n",
    "name_counter_frame = [i.split('.')[0] for i in counter_frame.name_video.tolist()]\n",
    "total_counter_frame = counter_frame.total_frame.tolist()\n",
    "\n",
    "dict_not_frame = pickle.load(open('files_needed_to_get_final_probabilities/frame_with_face_not_detected.pickle', 'rb'))\n",
    "dropped_frames = df_dropprd_frames(dict_not_frame, name_folder)"
   ]
  },
  {
   "cell_type": "code",
   "execution_count": 9,
   "metadata": {},
   "outputs": [],
   "source": [
    "# fill in the probabilities for dropped frames\n",
    "df_new__ = fill_dropped_frame(name_folder, dropped_frames, df_)\n",
    "\n",
    "# merge two dataframes\n",
    "df_new_union = pd.concat([df_sort, df_new__], ignore_index=True)\n",
    "df_new_union_sort = df_new_union.sort_values(by=['name_file', 'frame'])"
   ]
  },
  {
   "cell_type": "code",
   "execution_count": 10,
   "metadata": {},
   "outputs": [],
   "source": [
    "# save probability\n",
    "for i in name_folder:\n",
    "    if len(i.split('_')) > 1 and len(i.split('_')[1]) > 1:\n",
    "        counter_i = total_counter_frame[name_counter_frame.index(i.split('_')[0])]\n",
    "    else:\n",
    "        counter_i = total_counter_frame[name_counter_frame.index(i)]\n",
    "    c_df = df_new_union_sort.loc[df_new_union_sort.name_file == i].copy()\n",
    "    c_p = pd.DataFrame(c_df.drop(['name_file','emotion'], axis=1)).values\n",
    "    df_recording = pd.DataFrame(data=c_p[:counter_i],columns=['frame_id','neutral_probability', 'anger_probability','disgust_probability','fear_probability','happiness_probability','sadness_probability','surprise_probability'])\n",
    "    filename = '{}.txt'.format(i)\n",
    "    df_recording.to_csv('probability/resnet50/test/' + filename, index=False)"
   ]
  },
  {
   "cell_type": "code",
   "execution_count": null,
   "metadata": {},
   "outputs": [],
   "source": []
  }
 ],
 "metadata": {
  "kernelspec": {
   "display_name": "Python 3",
   "language": "python",
   "name": "python3"
  },
  "language_info": {
   "codemirror_mode": {
    "name": "ipython",
    "version": 3
   },
   "file_extension": ".py",
   "mimetype": "text/x-python",
   "name": "python",
   "nbconvert_exporter": "python",
   "pygments_lexer": "ipython3",
   "version": "3.7.5"
  }
 },
 "nbformat": 4,
 "nbformat_minor": 2
}
