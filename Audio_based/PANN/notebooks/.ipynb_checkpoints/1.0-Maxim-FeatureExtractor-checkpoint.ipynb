{
 "cells": [
  {
   "cell_type": "code",
   "execution_count": 1,
   "metadata": {},
   "outputs": [],
   "source": [
    "import os\n",
    "import sys\n",
    "import matplotlib.pyplot as plt\n",
    "import IPython.display as ipd\n",
    "import pandas as pd\n",
    "import re\n",
    "import subprocess\n",
    "import numpy as np\n",
    "import math\n",
    "\n",
    "%load_ext autoreload\n",
    "%autoreload 2\n",
    "%matplotlib inline\n",
    "\n",
    "sys.path.append('../src')"
   ]
  },
  {
   "cell_type": "code",
   "execution_count": 10,
   "metadata": {},
   "outputs": [],
   "source": [
    "import warnings\n",
    "warnings.filterwarnings('ignore')\n",
    "\n",
    "import time\n",
    "import copy\n",
    "import pickle\n",
    "import shutil\n",
    "\n",
    "import torch\n",
    "from sklearn.metrics import recall_score\n",
    "\n",
    "from tqdm.notebook import tqdm\n",
    "\n",
    "from utils.notebooks_utils import *"
   ]
  },
  {
   "cell_type": "code",
   "execution_count": 3,
   "metadata": {},
   "outputs": [],
   "source": [
    "data_root = '/media/maxim/SStorage/FG_2020/'\n",
    "\n",
    "reduced_sample_rate = 'data/Reduced_sample_rate'\n",
    "reduced_sample_rate_path = os.path.join(data_root, reduced_sample_rate)\n",
    "\n",
    "separated_audio = 'data/Separated_audio'\n",
    "separated_audio_path = os.path.join(data_root, separated_audio)\n",
    "\n",
    "labels = 'labels/downgraded'\n",
    "labels_path = os.path.join(data_root, labels)\n",
    "\n",
    "features = 'features'"
   ]
  },
  {
   "cell_type": "code",
   "execution_count": 30,
   "metadata": {
    "scrolled": true
   },
   "outputs": [
    {
     "name": "stderr",
     "output_type": "stream",
     "text": [
      "100%|██████████| 253/253 [00:13<00:00, 18.78it/s]\n",
      "  9%|▊         | 6/70 [00:00<00:01, 57.44it/s]"
     ]
    },
    {
     "name": "stdout",
     "output_type": "stream",
     "text": [
      "224\n",
      "train done\n"
     ]
    },
    {
     "name": "stderr",
     "output_type": "stream",
     "text": [
      "100%|██████████| 70/70 [00:04<00:00, 15.60it/s]\n"
     ]
    },
    {
     "name": "stdout",
     "output_type": "stream",
     "text": [
      "53\n",
      "valid done\n"
     ]
    }
   ],
   "source": [
    "import librosa\n",
    "from data.data_sample import DataSample\n",
    "\n",
    "samples_ratio = 32\n",
    "sr = 16000\n",
    "features_type = 'mel_64x32'\n",
    "\n",
    "\n",
    "n_fft = int(sr * (0.2 / samples_ratio)) # window_width ms\n",
    "hop_length = int(sr * (0.2 / samples_ratio)) # step ms\n",
    "\n",
    "for ds in ['train', 'valid']:\n",
    "    all_samples = []\n",
    "    \n",
    "    for i in tqdm(os.listdir(os.path.join(labels_path, ds))):\n",
    "        fp = os.path.join(separated_audio_path, i).replace('.txt', '_vocals.wav').replace('_left', '').replace('_right', '')\n",
    "        if not os.path.exists(fp):\n",
    "            continue\n",
    "            \n",
    "        # Extract features\n",
    "        wave, sr = librosa.load(fp, sr)\n",
    "        s = librosa.feature.melspectrogram(y=wave, sr=sr, n_fft=n_fft, hop_length=hop_length, n_mels=64)\n",
    "        log_mels = librosa.power_to_db(s, ref=np.max)\n",
    "        \n",
    "        meta = pd.read_csv(os.path.join(labels_path, ds, i)).values\n",
    "    \n",
    "        extended_meta = np.asarray([item for item in np.squeeze(meta) for repetitions in range(samples_ratio)])\n",
    "        diff = extended_meta.shape[0] - log_mels.shape[1]\n",
    "        \n",
    "        if diff < 0:\n",
    "            log_mels = log_mels[:, 0:diff]\n",
    "        \n",
    "        data_sample = DataSample(wav_path=fp, file_name=os.path.basename(fp), features=log_mels)\n",
    "        all_samples.append(data_sample)\n",
    "    \n",
    "    pickle_fn = 'fg_2020.{0}.{1}.pickle'.format(features_type, ds)\n",
    "    pickle_path = os.path.join(data_root, features, pickle_fn)\n",
    "    if os.path.exists(pickle_path):\n",
    "        os.remove(pickle_path)\n",
    "        \n",
    "    with open(pickle_path, 'wb') as f:\n",
    "        pickle.dump(all_samples, f, protocol=4)\n",
    "\n",
    "    print('{0} done'.format(ds))"
   ]
  }
 ],
 "metadata": {
  "kernelspec": {
   "display_name": "Python (mlenv)",
   "language": "python",
   "name": "mlenv"
  },
  "language_info": {
   "codemirror_mode": {
    "name": "ipython",
    "version": 3
   },
   "file_extension": ".py",
   "mimetype": "text/x-python",
   "name": "python",
   "nbconvert_exporter": "python",
   "pygments_lexer": "ipython3",
   "version": "3.7.5"
  }
 },
 "nbformat": 4,
 "nbformat_minor": 2
}
